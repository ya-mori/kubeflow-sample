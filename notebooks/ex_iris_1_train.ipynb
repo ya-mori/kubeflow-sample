{
 "cells": [
  {
   "cell_type": "code",
   "execution_count": 1,
   "id": "d787b012-b19d-4b68-b987-b8b5e28e8246",
   "metadata": {},
   "outputs": [
    {
     "name": "stdout",
     "output_type": "stream",
     "text": [
      "TensorFlow version: 2.5.0\n",
      "Eager execution: True\n"
     ]
    }
   ],
   "source": [
    "import tensorflow as tf\n",
    "\n",
    "print(\"TensorFlow version: {}\".format(tf.__version__))\n",
    "print(\"Eager execution: {}\".format(tf.executing_eagerly()))"
   ]
  },
  {
   "cell_type": "code",
   "execution_count": 2,
   "id": "53992a65-59db-443b-8218-103b3b356b0e",
   "metadata": {},
   "outputs": [
    {
     "name": "stdout",
     "output_type": "stream",
     "text": [
      "(<tf.Tensor: shape=(2,), dtype=float32, numpy=array([0.6566521, 1.0723119], dtype=float32)>, <tf.Tensor: shape=(3,), dtype=float32, numpy=array([0., 0., 1.], dtype=float32)>)\n",
      "(<tf.Tensor: shape=(2,), dtype=float32, numpy=array([0.8289515, 1.0723119], dtype=float32)>, <tf.Tensor: shape=(3,), dtype=float32, numpy=array([0., 0., 1.], dtype=float32)>)\n",
      "(<tf.Tensor: shape=(2,), dtype=float32, numpy=array([-1.4109405, -1.1992522], dtype=float32)>, <tf.Tensor: shape=(3,), dtype=float32, numpy=array([1., 0., 0.], dtype=float32)>)\n",
      "(<tf.Tensor: shape=(2,), dtype=float32, numpy=array([0.36948645, 0.00334054], dtype=float32)>, <tf.Tensor: shape=(3,), dtype=float32, numpy=array([0., 1., 0.], dtype=float32)>)\n",
      "(<tf.Tensor: shape=(2,), dtype=float32, numpy=array([-0.08997857,  0.13696197], dtype=float32)>, <tf.Tensor: shape=(3,), dtype=float32, numpy=array([0., 1., 0.], dtype=float32)>)\n"
     ]
    }
   ],
   "source": [
    "def load(path: str) -> tf.data.TFRecordDataset:\n",
    "    raw_dataset = tf.data.TFRecordDataset(path)\n",
    "    # 特徴の記述\n",
    "    feature_description = {\n",
    "        'petal_length': tf.io.FixedLenFeature([], tf.float32, default_value=0),\n",
    "        'petal_width': tf.io.FixedLenFeature([], tf.float32, default_value=0),\n",
    "        'target': tf.io.FixedLenFeature([3], tf.float32, default_value=[0, 0, 0]),\n",
    "    }\n",
    "\n",
    "    def _parse_function(example_proto):\n",
    "        return tf.io.parse_single_example(example_proto, feature_description)\n",
    "    \n",
    "    def _feature_convert_function(feature):\n",
    "#         target = feature.pop(\"target\")\n",
    "        return [feature[\"petal_length\"], feature[\"petal_width\"]], feature[\"target\"]\n",
    "    \n",
    "    parsed_dataset = (\n",
    "        raw_dataset\n",
    "        .map(_parse_function)\n",
    "        .map(_feature_convert_function)\n",
    "    )\n",
    "    return parsed_dataset\n",
    "\n",
    "\n",
    "train_dataset = load('../data/02_features/iris/train.tfrecord')\n",
    "test_dataset = load('../data/02_features/iris/test.tfrecord')\n",
    "\n",
    "for record in train_dataset.take(5):\n",
    "    print(record)"
   ]
  },
  {
   "cell_type": "code",
   "execution_count": 3,
   "id": "8bd5d307-1104-43ec-a102-cf1eb48aa424",
   "metadata": {},
   "outputs": [
    {
     "name": "stdout",
     "output_type": "stream",
     "text": [
      "Epoch 1/10\n",
      "120/120 [==============================] - 0s 823us/step - loss: 0.2231 - root_mean_squared_error: 0.4723\n",
      "Epoch 2/10\n",
      "120/120 [==============================] - 0s 754us/step - loss: 0.2222 - root_mean_squared_error: 0.4714\n",
      "Epoch 3/10\n",
      "120/120 [==============================] - 0s 706us/step - loss: 0.2222 - root_mean_squared_error: 0.4714\n",
      "Epoch 4/10\n",
      "120/120 [==============================] - 0s 780us/step - loss: 0.2222 - root_mean_squared_error: 0.4714\n",
      "Epoch 5/10\n",
      "120/120 [==============================] - 0s 945us/step - loss: 0.2222 - root_mean_squared_error: 0.4714\n",
      "Epoch 6/10\n",
      "120/120 [==============================] - 0s 736us/step - loss: 0.2222 - root_mean_squared_error: 0.4714\n",
      "Epoch 7/10\n",
      "120/120 [==============================] - 0s 1ms/step - loss: 0.2222 - root_mean_squared_error: 0.4714\n",
      "Epoch 8/10\n",
      "120/120 [==============================] - 0s 728us/step - loss: 0.2222 - root_mean_squared_error: 0.4714\n",
      "Epoch 9/10\n",
      "120/120 [==============================] - 0s 754us/step - loss: 0.2222 - root_mean_squared_error: 0.4714\n",
      "Epoch 10/10\n",
      "120/120 [==============================] - 0s 661us/step - loss: 0.2222 - root_mean_squared_error: 0.4714\n",
      "30/30 [==============================] - 0s 670us/step - loss: 0.2222 - root_mean_squared_error: 0.4714\n",
      "[0.2222234159708023, 0.4714057743549347]\n"
     ]
    }
   ],
   "source": [
    "model = tf.keras.Sequential([\n",
    "    tf.keras.layers.Dense(10, activation=tf.nn.relu, input_shape=(1, 1)),  # input shape required\n",
    "    tf.keras.layers.Dense(10, activation=tf.nn.relu),\n",
    "    tf.keras.layers.Dense(10, activation=tf.nn.relu),\n",
    "    tf.keras.layers.Dense(3, activation=tf.nn.softmax),\n",
    "])\n",
    "\n",
    "model.compile(    \n",
    "    loss=tf.keras.losses.MeanSquaredError(),\n",
    "    optimizer=tf.keras.optimizers.Adam(),\n",
    "    metrics=[tf.keras.metrics.RootMeanSquaredError()],\n",
    ")\n",
    "\n",
    "model.fit(\n",
    "    train_dataset,\n",
    "    epochs=10,\n",
    "#     validation_data=validation_dataset,\n",
    "#     callbacks=callbacks,\n",
    ")\n",
    "print(model.evaluate(test_dataset))\n",
    "model.save(filepath=\"../data/03_models/iris.h5\", save_format=\"h5\")\n"
   ]
  }
 ],
 "metadata": {
  "kernelspec": {
   "display_name": "Python 3",
   "language": "python",
   "name": "python3"
  },
  "language_info": {
   "codemirror_mode": {
    "name": "ipython",
    "version": 3
   },
   "file_extension": ".py",
   "mimetype": "text/x-python",
   "name": "python",
   "nbconvert_exporter": "python",
   "pygments_lexer": "ipython3",
   "version": "3.9.4"
  }
 },
 "nbformat": 4,
 "nbformat_minor": 5
}
