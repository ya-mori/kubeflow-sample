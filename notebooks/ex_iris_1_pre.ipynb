{
 "cells": [
  {
   "cell_type": "code",
   "execution_count": 1,
   "id": "93553c06-6707-4d0a-ae5c-9e96e5535136",
   "metadata": {},
   "outputs": [],
   "source": [
    "import pandas as pd\n",
    "import numpy as np"
   ]
  },
  {
   "cell_type": "code",
   "execution_count": 2,
   "id": "a40c41c8-5653-49b2-9cdb-af942e8559fe",
   "metadata": {},
   "outputs": [
    {
     "data": {
      "text/html": [
       "<div>\n",
       "<style scoped>\n",
       "    .dataframe tbody tr th:only-of-type {\n",
       "        vertical-align: middle;\n",
       "    }\n",
       "\n",
       "    .dataframe tbody tr th {\n",
       "        vertical-align: top;\n",
       "    }\n",
       "\n",
       "    .dataframe thead th {\n",
       "        text-align: right;\n",
       "    }\n",
       "</style>\n",
       "<table border=\"1\" class=\"dataframe\">\n",
       "  <thead>\n",
       "    <tr style=\"text-align: right;\">\n",
       "      <th></th>\n",
       "      <th>sepal.length</th>\n",
       "      <th>sepal.width</th>\n",
       "      <th>petal.length</th>\n",
       "      <th>petal.width</th>\n",
       "      <th>variety</th>\n",
       "    </tr>\n",
       "  </thead>\n",
       "  <tbody>\n",
       "    <tr>\n",
       "      <th>0</th>\n",
       "      <td>5.1</td>\n",
       "      <td>3.5</td>\n",
       "      <td>1.4</td>\n",
       "      <td>0.2</td>\n",
       "      <td>Setosa</td>\n",
       "    </tr>\n",
       "    <tr>\n",
       "      <th>1</th>\n",
       "      <td>4.9</td>\n",
       "      <td>3.0</td>\n",
       "      <td>1.4</td>\n",
       "      <td>0.2</td>\n",
       "      <td>Setosa</td>\n",
       "    </tr>\n",
       "    <tr>\n",
       "      <th>2</th>\n",
       "      <td>4.7</td>\n",
       "      <td>3.2</td>\n",
       "      <td>1.3</td>\n",
       "      <td>0.2</td>\n",
       "      <td>Setosa</td>\n",
       "    </tr>\n",
       "    <tr>\n",
       "      <th>3</th>\n",
       "      <td>4.6</td>\n",
       "      <td>3.1</td>\n",
       "      <td>1.5</td>\n",
       "      <td>0.2</td>\n",
       "      <td>Setosa</td>\n",
       "    </tr>\n",
       "    <tr>\n",
       "      <th>4</th>\n",
       "      <td>5.0</td>\n",
       "      <td>3.6</td>\n",
       "      <td>1.4</td>\n",
       "      <td>0.2</td>\n",
       "      <td>Setosa</td>\n",
       "    </tr>\n",
       "  </tbody>\n",
       "</table>\n",
       "</div>"
      ],
      "text/plain": [
       "   sepal.length  sepal.width  petal.length  petal.width variety\n",
       "0           5.1          3.5           1.4          0.2  Setosa\n",
       "1           4.9          3.0           1.4          0.2  Setosa\n",
       "2           4.7          3.2           1.3          0.2  Setosa\n",
       "3           4.6          3.1           1.5          0.2  Setosa\n",
       "4           5.0          3.6           1.4          0.2  Setosa"
      ]
     },
     "execution_count": 2,
     "metadata": {},
     "output_type": "execute_result"
    }
   ],
   "source": [
    "origin = pd.read_csv(\"./data/01_inputs/iris.csv\")\n",
    "origin.head()"
   ]
  },
  {
   "cell_type": "code",
   "execution_count": 3,
   "id": "cc5c0004-c2fd-43f5-b7b0-52d2a6a71e08",
   "metadata": {},
   "outputs": [],
   "source": [
    "from keras.utils import np_utils\n",
    "\n",
    "# target_category = iris_df[\"variety\"].unique() \n",
    "target_category = ['Setosa', 'Versicolor', 'Virginica']\n",
    "origin['target'] = [target_category.index(category) for category in origin.variety]\n",
    "\n",
    "x = origin.loc[:, [\"petal.length\", \"petal.width\"]]\n",
    "y = np_utils.to_categorical(origin.target.values)"
   ]
  },
  {
   "cell_type": "code",
   "execution_count": 4,
   "id": "18d265b5-ee31-41f7-b9ba-fd458e9d22f4",
   "metadata": {},
   "outputs": [],
   "source": [
    "from sklearn.model_selection import train_test_split\n",
    "\n",
    "x_train, x_test, y_train, y_test = train_test_split(x, y, test_size=0.2, random_state=1, stratify=y)"
   ]
  },
  {
   "cell_type": "code",
   "execution_count": 5,
   "id": "93723ca7-0d83-4c2f-9cb3-8abbf0ab3c5c",
   "metadata": {},
   "outputs": [],
   "source": [
    "from sklearn.preprocessing import StandardScaler\n",
    "\n",
    "scaler = StandardScaler()\n",
    "scaler.fit(x_train)\n",
    "x_train_std = scaler.transform(x_train)\n",
    "x_test_std = scaler.transform(x_test)"
   ]
  },
  {
   "cell_type": "code",
   "execution_count": 6,
   "id": "4c953ee8-97fc-4e42-b6ee-13ce9fca7e68",
   "metadata": {},
   "outputs": [
    {
     "name": "stdout",
     "output_type": "stream",
     "text": [
      "(120, 2)\n",
      "(120, 3)\n",
      "(30, 2)\n",
      "(30, 3)\n"
     ]
    }
   ],
   "source": [
    "print(x_train.shape)\n",
    "print(y_train.shape)\n",
    "print(x_test.shape)\n",
    "print(y_test.shape)"
   ]
  },
  {
   "cell_type": "code",
   "execution_count": 7,
   "id": "90c44c18-f318-4eae-a926-608998e8be01",
   "metadata": {},
   "outputs": [],
   "source": [
    "import tensorflow as tf\n",
    "\n",
    "dataset_train = tf.data.Dataset.from_tensor_slices((x_train, y_train))\n",
    "dataset_test = tf.data.Dataset.from_tensor_slices((x_test, y_test))"
   ]
  },
  {
   "cell_type": "code",
   "execution_count": 8,
   "id": "cbab5d22-df40-40d7-9d7d-ee478c5eccc9",
   "metadata": {},
   "outputs": [],
   "source": [
    "def _float_feature(value):\n",
    "    return tf.train.Feature(float_list=tf.train.FloatList(value=[value]))\n",
    "\n",
    "def _float_list_feature(value):\n",
    "    return tf.train.Feature(float_list=tf.train.FloatList(value=value))\n",
    "\n",
    "def serialize(features, target):\n",
    "    def _serialize(_features, _target):\n",
    "        # print(_features, _target)\n",
    "        feature = {\n",
    "          'petal_length': _float_feature(_features[0]),\n",
    "          'petal_width': _float_feature(_features[1]),\n",
    "          'target': _float_list_feature(_target),\n",
    "        }\n",
    "        example_proto = tf.train.Example(features=tf.train.Features(feature=feature))\n",
    "        return example_proto.SerializeToString()\n",
    "    \n",
    "    tf_string = tf.py_function(\n",
    "        _serialize, \n",
    "        (features, target), # 上記の関数にこれらの引数を渡す\n",
    "        tf.string # 戻り値の型は tf.string\n",
    "    )\n",
    "    return tf.reshape(tf_string, ()) # 結果はスカラー\n",
    "\n",
    "\n",
    "serialized_features_dataset_train = dataset_train.map(serialize)\n",
    "serialized_features_dataset_test = dataset_test.map(serialize)\n",
    "\n",
    "\n",
    "writer = tf.data.experimental.TFRecordWriter('./data/02_features/iris/train.tfrecord')\n",
    "writer.write(serialized_features_dataset_train)\n",
    "writer = tf.data.experimental.TFRecordWriter('./data/02_features/iris/test.tfrecord')\n",
    "writer.write(serialized_features_dataset_test)"
   ]
  },
  {
   "cell_type": "code",
   "execution_count": 9,
   "id": "058d4e75-7b17-4552-9738-1aed74c9e970",
   "metadata": {},
   "outputs": [
    {
     "name": "stdout",
     "output_type": "stream",
     "text": [
      "{'petal_length': <tf.Tensor: shape=(), dtype=float32, numpy=4.9>, 'petal_width': <tf.Tensor: shape=(), dtype=float32, numpy=2.0>, 'target': <tf.Tensor: shape=(3,), dtype=float32, numpy=array([0., 0., 1.], dtype=float32)>}\n",
      "{'petal_length': <tf.Tensor: shape=(), dtype=float32, numpy=5.2>, 'petal_width': <tf.Tensor: shape=(), dtype=float32, numpy=2.0>, 'target': <tf.Tensor: shape=(3,), dtype=float32, numpy=array([0., 0., 1.], dtype=float32)>}\n",
      "{'petal_length': <tf.Tensor: shape=(), dtype=float32, numpy=1.3>, 'petal_width': <tf.Tensor: shape=(), dtype=float32, numpy=0.3>, 'target': <tf.Tensor: shape=(3,), dtype=float32, numpy=array([1., 0., 0.], dtype=float32)>}\n",
      "{'petal_length': <tf.Tensor: shape=(), dtype=float32, numpy=4.4>, 'petal_width': <tf.Tensor: shape=(), dtype=float32, numpy=1.2>, 'target': <tf.Tensor: shape=(3,), dtype=float32, numpy=array([0., 1., 0.], dtype=float32)>}\n",
      "{'petal_length': <tf.Tensor: shape=(), dtype=float32, numpy=3.6>, 'petal_width': <tf.Tensor: shape=(), dtype=float32, numpy=1.3>, 'target': <tf.Tensor: shape=(3,), dtype=float32, numpy=array([0., 1., 0.], dtype=float32)>}\n",
      "{'petal_length': <tf.Tensor: shape=(), dtype=float32, numpy=4.5>, 'petal_width': <tf.Tensor: shape=(), dtype=float32, numpy=1.6>, 'target': <tf.Tensor: shape=(3,), dtype=float32, numpy=array([0., 1., 0.], dtype=float32)>}\n",
      "{'petal_length': <tf.Tensor: shape=(), dtype=float32, numpy=4.4>, 'petal_width': <tf.Tensor: shape=(), dtype=float32, numpy=1.3>, 'target': <tf.Tensor: shape=(3,), dtype=float32, numpy=array([0., 1., 0.], dtype=float32)>}\n",
      "{'petal_length': <tf.Tensor: shape=(), dtype=float32, numpy=1.5>, 'petal_width': <tf.Tensor: shape=(), dtype=float32, numpy=0.3>, 'target': <tf.Tensor: shape=(3,), dtype=float32, numpy=array([1., 0., 0.], dtype=float32)>}\n",
      "{'petal_length': <tf.Tensor: shape=(), dtype=float32, numpy=1.3>, 'petal_width': <tf.Tensor: shape=(), dtype=float32, numpy=0.2>, 'target': <tf.Tensor: shape=(3,), dtype=float32, numpy=array([1., 0., 0.], dtype=float32)>}\n",
      "{'petal_length': <tf.Tensor: shape=(), dtype=float32, numpy=4.9>, 'petal_width': <tf.Tensor: shape=(), dtype=float32, numpy=1.5>, 'target': <tf.Tensor: shape=(3,), dtype=float32, numpy=array([0., 1., 0.], dtype=float32)>}\n"
     ]
    }
   ],
   "source": [
    "raw_dataset = tf.data.TFRecordDataset('./data/02_features/iris/train.tfrecord')\n",
    "# for raw_record in raw_dataset.take(10):\n",
    "#     print(repr(raw_record))\n",
    "    \n",
    "# 特徴の記述\n",
    "feature_description = {\n",
    "    'petal_length': tf.io.FixedLenFeature([], tf.float32, default_value=0),\n",
    "    'petal_width': tf.io.FixedLenFeature([], tf.float32, default_value=0),\n",
    "    'target': tf.io.FixedLenFeature([3], tf.float32, default_value=[0, 0, 0]),\n",
    "}\n",
    "\n",
    "def _parse_function(example_proto):\n",
    "  # 上記の記述を使って入力の tf.Example を処理\n",
    "  return tf.io.parse_single_example(example_proto, feature_description)\n",
    "\n",
    "parsed_dataset = raw_dataset.map(_parse_function)\n",
    "\n",
    "for raw_record in parsed_dataset.take(10):\n",
    "    print(raw_record)\n"
   ]
  },
  {
   "cell_type": "code",
   "execution_count": null,
   "id": "4ce06394-bd9c-42bf-96bf-8b8b66b1e7f5",
   "metadata": {},
   "outputs": [],
   "source": []
  }
 ],
 "metadata": {
  "kernelspec": {
   "display_name": "Python 3",
   "language": "python",
   "name": "python3"
  },
  "language_info": {
   "codemirror_mode": {
    "name": "ipython",
    "version": 3
   },
   "file_extension": ".py",
   "mimetype": "text/x-python",
   "name": "python",
   "nbconvert_exporter": "python",
   "pygments_lexer": "ipython3",
   "version": "3.9.4"
  }
 },
 "nbformat": 4,
 "nbformat_minor": 5
}
